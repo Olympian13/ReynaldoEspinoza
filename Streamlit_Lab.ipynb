{
  "cells": [
    {
      "cell_type": "code",
      "execution_count": null,
      "metadata": {
        "colab": {
          "base_uri": "https://localhost:8080/"
        },
        "id": "KydGr0JhdhOx",
        "outputId": "13f00f41-6615-4425-9b12-768f6641a687"
      },
      "outputs": [
        {
          "name": "stdout",
          "output_type": "stream",
          "text": [
            "35.185.110.114"
          ]
        }
      ],
      "source": [
        "!curl ipecho.net/plain"
      ]
    },
    {
      "cell_type": "code",
      "execution_count": null,
      "metadata": {
        "id": "8cVw42tRdpwt"
      },
      "outputs": [],
      "source": [
        "!pip install streamlit --quiet\n",
        "!pip install pyngrok --quiet"
      ]
    },
    {
      "cell_type": "code",
      "execution_count": null,
      "metadata": {
        "colab": {
          "base_uri": "https://localhost:8080/"
        },
        "id": "EdQFo2pfdpzt",
        "outputId": "8e249d80-67bf-499a-bbd3-f729e4a2d78d"
      },
      "outputs": [
        {
          "name": "stdout",
          "output_type": "stream",
          "text": [
            "Overwriting app.py\n"
          ]
        }
      ],
      "source": [
        "%%writefile app.py\n",
        "import streamlit as st\n",
        "import pandas as pd\n",
        "import numpy as np\n",
        "st.write(\"US Housing\")\n",
        "df_housing = pd.read_csv(\"USA_Housing.csv\")\n",
        "import matplotlib.pyplot as plt\n",
        "df_housing_2 = df_housing[['Avg. Area Income', 'Price']].copy()\n",
        "\n",
        "\n",
        "st.dataframe(df_housing)\n",
        "\n",
        "st.scatter_chart(df_housing_2, x = 'Avg. Area Income', y = 'Price')"
      ]
    },
    {
      "cell_type": "code",
      "execution_count": null,
      "metadata": {
        "colab": {
          "base_uri": "https://localhost:8080/"
        },
        "id": "NJM7mb8ahXd8",
        "outputId": "0cbb0505-8654-43d4-d527-99bbc3f1b631"
      },
      "outputs": [
        {
          "data": {
            "text/plain": [
              "Avg. Area Income                float64\n",
              "Avg. Area House Age             float64\n",
              "Avg. Area Number of Rooms       float64\n",
              "Avg. Area Number of Bedrooms    float64\n",
              "Area Population                 float64\n",
              "Price                           float64\n",
              "Address                          object\n",
              "dtype: object"
            ]
          },
          "execution_count": 36,
          "metadata": {},
          "output_type": "execute_result"
        }
      ],
      "source": [
        "\n",
        "import pandas as pd\n",
        "import numpy as np\n",
        "df_housing = pd.read_csv(\"USA_Housing.csv\")\n",
        "import matplotlib.pyplot as plt\n",
        "df_housing.dtypes"
      ]
    },
    {
      "cell_type": "code",
      "execution_count": null,
      "metadata": {
        "colab": {
          "background_save": true,
          "base_uri": "https://localhost:8080/"
        },
        "id": "nfoncS3edp1m",
        "outputId": "b4d87ce7-ff08-4cf6-df75-6bcdfcf3481b"
      },
      "outputs": [
        {
          "name": "stdout",
          "output_type": "stream",
          "text": [
            "[..................] \\ fetchMetadata: sill resolveWithNewModule localtunnel@2.0\u001b[0m\u001b[K\n",
            "Collecting usage statistics. To deactivate, set browser.gatherUsageStats to False.\n",
            "\u001b[0m\n",
            "\u001b[0m\n",
            "\u001b[34m\u001b[1m  You can now view your Streamlit app in your browser.\u001b[0m\n",
            "\u001b[0m\n",
            "\u001b[34m  Network URL: \u001b[0m\u001b[1mhttp://172.28.0.12:8501\u001b[0m\n",
            "\u001b[34m  External URL: \u001b[0m\u001b[1mhttp://35.185.110.114:8501\u001b[0m\n",
            "\u001b[0m\n",
            "\u001b[K\u001b[?25hnpx: installed 22 in 3.368s\n",
            "your url is: https://sharp-poems-smile.loca.lt\n",
            "2023-09-25 14:35:02.345 Session with id e2dc18ef-60ea-4ac5-9eb2-f2f39d151793 is already connected! Connecting to a new session.\n"
          ]
        }
      ],
      "source": [
        "!streamlit run app.py & npx localtunnel --port 8501"
      ]
    },
    {
      "cell_type": "code",
      "execution_count": null,
      "metadata": {
        "id": "IUwxt3O-ezpB"
      },
      "outputs": [],
      "source": []
    }
  ],
  "metadata": {
    "colab": {
      "provenance": []
    },
    "kernelspec": {
      "display_name": "Python 3",
      "name": "python3"
    },
    "language_info": {
      "name": "python"
    }
  },
  "nbformat": 4,
  "nbformat_minor": 0
}